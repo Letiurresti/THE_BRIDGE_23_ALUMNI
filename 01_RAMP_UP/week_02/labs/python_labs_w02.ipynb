{
 "cells": [
  {
   "attachments": {},
   "cell_type": "markdown",
   "metadata": {},
   "source": [
    "# Ejercicios para repasar list, dict, tuple, for, while, if"
   ]
  },
  {
   "cell_type": "code",
   "execution_count": null,
   "metadata": {},
   "outputs": [],
   "source": [
    "# Dada una lista de números, utiliza un bucle for para imprimir solo los números pares.\n",
    "# numbers = [1, 2, 3, 4, 5, 6, 7, 8, 9, 10]"
   ]
  },
  {
   "cell_type": "code",
   "execution_count": null,
   "metadata": {},
   "outputs": [
    {
     "name": "stdout",
     "output_type": "stream",
     "text": [
      "2\n",
      "4\n",
      "6\n",
      "8\n",
      "10\n"
     ]
    }
   ],
   "source": [
    "numbers = [1, 2, 3, 4, 5, 6, 7, 8, 9, 10]\n",
    "for num in numbers:\n",
    "     if num % 2 == 0:\n",
    "        print(num)"
   ]
  },
  {
   "cell_type": "code",
   "execution_count": null,
   "metadata": {},
   "outputs": [],
   "source": [
    "# Dada una lista de números, utiliza un bucle while para imprimir solo los números impares.\n",
    "# numbers = [1, 2, 3, 4, 5, 6, 7, 8, 9, 10]"
   ]
  },
  {
   "cell_type": "code",
   "execution_count": null,
   "metadata": {},
   "outputs": [
    {
     "name": "stdout",
     "output_type": "stream",
     "text": [
      "1\n",
      "3\n",
      "5\n",
      "7\n",
      "9\n"
     ]
    }
   ],
   "source": [
    "numbers = [1, 2, 3, 4, 5, 6, 7, 8, 9, 10]\n",
    "for num in numbers:\n",
    "    if num % 2 != 0:\n",
    "        print(num)"
   ]
  },
  {
   "cell_type": "code",
   "execution_count": null,
   "metadata": {},
   "outputs": [],
   "source": [
    "# Dado un diccionario de frutas y sus precios, utiliza un bucle for para imprimir solo las frutas con precios mayores a 2.\n",
    "#fruits = {\"manzana\": 1.5, \"naranja\": 2.0, \"platano\": 3.0, \"kiwi\": 2.5}"
   ]
  },
  {
   "cell_type": "code",
   "execution_count": null,
   "metadata": {},
   "outputs": [
    {
     "name": "stdout",
     "output_type": "stream",
     "text": [
      "platano\n",
      "kiwi\n"
     ]
    }
   ],
   "source": [
    "fruits = {\"manzana\": 1.5, \"naranja\": 2.0, \"platano\": 3.0, \"kiwi\": 2.5}\n",
    "for fruit, price in fruits.items():\n",
    "    if price > 2:\n",
    "        print(fruit)"
   ]
  },
  {
   "cell_type": "code",
   "execution_count": null,
   "metadata": {},
   "outputs": [],
   "source": [
    "# Dada una lista de nombres, utiliza un bucle while para imprimir el primer nombre que comience con \"J\".\n",
    "# names = [\"Ana\", \"Pedro\", \"Juan\", \"Maria\", \"Julia\"]"
   ]
  },
  {
   "cell_type": "code",
   "execution_count": null,
   "metadata": {},
   "outputs": [
    {
     "name": "stdout",
     "output_type": "stream",
     "text": [
      "Juan\n"
     ]
    }
   ],
   "source": [
    "names = [\"Ana\", \"Pedro\", \"Juan\", \"Maria\", \"Julia\"]\n",
    "\n",
    "letra = 0\n",
    "while letra < len(names):\n",
    "    if names[letra].startswith(\"J\"):\n",
    "        print(names[letra])\n",
    "        break\n",
    "    letra += 1\n"
   ]
  },
  {
   "cell_type": "code",
   "execution_count": null,
   "metadata": {},
   "outputs": [],
   "source": [
    "# Dada una lista de números, utiliza un bucle for para calcular la suma de los números impares.\n",
    "# numbers = [1, 2, 3, 4, 5, 6, 7, 8, 9, 10]"
   ]
  },
  {
   "cell_type": "code",
   "execution_count": null,
   "metadata": {},
   "outputs": [
    {
     "name": "stdout",
     "output_type": "stream",
     "text": [
      "30\n"
     ]
    }
   ],
   "source": [
    "numbers = [1, 2, 3, 4, 5, 6, 7, 8, 9, 10]\n",
    "suma_impares = 0\n",
    "\n",
    "for num in numbers:\n",
    "    if num % 2 == 0:\n",
    "        suma_impares += num\n",
    "print(suma_impares)"
   ]
  },
  {
   "cell_type": "code",
   "execution_count": null,
   "metadata": {},
   "outputs": [],
   "source": [
    "# Dado un diccionario de frutas y sus precios, utiliza un bucle while para calcular el precio total de todas \n",
    "# las frutas con precios menores a 2.\n",
    "# fruits = {\"manzana\": 1.5, \"naranja\": 2.0, \"platano\": 1.0, \"kiwi\": 0.5}"
   ]
  },
  {
   "cell_type": "code",
   "execution_count": null,
   "metadata": {},
   "outputs": [
    {
     "name": "stdout",
     "output_type": "stream",
     "text": [
      "3.0\n"
     ]
    }
   ],
   "source": [
    "fruits = {\"manzana\": 1.5, \"naranja\": 2.0, \"platano\": 1.0, \"kiwi\": 0.5}\n",
    "total_price = 0\n",
    "fruits_price_less = {} #se crea un diccionario vacío\n",
    "\n",
    "for fruit, price in fruits.items(): # \".items()\", que devuelve una lista de tuplas\n",
    "    if price < 2:\n",
    "        fruits_price_less[fruit] = price # Si cumple condición, se agrega la fruta y su precio al diccionario\n",
    "while fruits_price_less:\n",
    "    fruit, price = fruits_price_less.popitem() #Este método devuelve una tupla con la clave y el valor del elemento.\n",
    "    total_price += price # Se suma el valor \"price\" a la variable \"total_price\".\n",
    "print(total_price)"
   ]
  },
  {
   "cell_type": "code",
   "execution_count": null,
   "metadata": {},
   "outputs": [],
   "source": [
    "# Dada una lista de nombres, utiliza un bucle for para imprimir solo los nombres que tengan más de 4 letras.\n",
    "# names = [\"Ana\", \"Pedro\", \"Juan\", \"Maria\", \"Julia\"]"
   ]
  },
  {
   "cell_type": "code",
   "execution_count": null,
   "metadata": {},
   "outputs": [
    {
     "name": "stdout",
     "output_type": "stream",
     "text": [
      "Pedro\n",
      "Maria\n",
      "Julia\n"
     ]
    }
   ],
   "source": [
    "names = [\"Ana\", \"Pedro\", \"Juan\", \"Maria\", \"Julia\"]\n",
    "\n",
    "for name in names:\n",
    "    if len(name) > 4:\n",
    "        print(name)"
   ]
  },
  {
   "cell_type": "code",
   "execution_count": null,
   "metadata": {},
   "outputs": [],
   "source": [
    "# Dada una lista de números, utiliza un bucle while para imprimir el primer número que sea mayor a 5.\n",
    "# numbers = [1, 2, 3, 4, 5, 6, 7, 8, 9, 10]"
   ]
  },
  {
   "cell_type": "code",
   "execution_count": null,
   "metadata": {},
   "outputs": [
    {
     "name": "stdout",
     "output_type": "stream",
     "text": [
      "6\n"
     ]
    }
   ],
   "source": [
    "numbers = [1, 2, 3, 4, 5, 6, 7, 8, 9, 10]\n",
    "i = 0 #variable i inicializada en 0 que utilizaremos como índice para recorrer la lista\n",
    "\n",
    "while numbers[i] <= 5:\n",
    "    i += 1 # mientras el número actual de la lista sea menor o igual a 5, incrementamos el valor de i en 1\n",
    "\n",
    "print(numbers[i])\n",
    "\n",
    "   "
   ]
  },
  {
   "cell_type": "code",
   "execution_count": null,
   "metadata": {},
   "outputs": [],
   "source": [
    "# Dado un diccionario de frutas y sus precios, utiliza un bucle for para imprimir la fruta más cara.\n",
    "# fruits = {\"manzana\": 1.5, \"naranja\": 2.0, \"platano\": 3.0, \"kiwi\": 2.5}"
   ]
  },
  {
   "cell_type": "code",
   "execution_count": null,
   "metadata": {},
   "outputs": [
    {
     "name": "stdout",
     "output_type": "stream",
     "text": [
      "platano\n"
     ]
    }
   ],
   "source": [
    "fruits = {\"manzana\": 1.5, \"naranja\": 2.0, \"platano\": 3.0, \"kiwi\": 2.5}\n",
    "\n",
    "max_fruit = max(fruits, key=fruits.get)\n",
    "print(max_fruit)\n",
    "\n",
    "# Utilizamos la función max() Para encontrar la fruta con el precio más alto. La función max() toma como primer argumento el diccionario, \n",
    "# y el segundo argumento key=fruits.get indica que se debe usar el valor del diccionario para hacer la comparación.\n"
   ]
  },
  {
   "cell_type": "code",
   "execution_count": null,
   "metadata": {},
   "outputs": [],
   "source": [
    "# Dada una lista de números, utiliza un bucle while para imprimir solo los números que sean divisibles por 3.\n",
    "# numbers = [1, 2, 3, 4, 5, 6, 7, 8, 9, 10]"
   ]
  },
  {
   "cell_type": "code",
   "execution_count": null,
   "metadata": {},
   "outputs": [
    {
     "name": "stdout",
     "output_type": "stream",
     "text": [
      "3\n",
      "6\n",
      "9\n"
     ]
    }
   ],
   "source": [
    "numbers = [1, 2, 3, 4, 5, 6, 7, 8, 9, 10]\n",
    "i = 0\n",
    "\n",
    "while i < len(numbers): # Mientras i sea menor que la longitud de la lista, comprobamos si el número en la posición i es divisible por 3.\n",
    "    if numbers[i] % 3 == 0:\n",
    "        print(numbers[i])\n",
    "    i += 1 # Luego, incrementamos i en 1 para pasar al siguiente elemento de la lista."
   ]
  },
  {
   "cell_type": "code",
   "execution_count": null,
   "metadata": {},
   "outputs": [],
   "source": [
    "# Dado un diccionario de frutas y sus precios, utiliza un bucle for para imprimir solo las frutas que tengan una longitud de nombre mayor a 5.\n",
    "# fruits = {\"manzana\": 1.5, \"naranja\": 2.0, \"platano\": 3.0, \"kiwi\": 2.5}"
   ]
  },
  {
   "cell_type": "code",
   "execution_count": null,
   "metadata": {},
   "outputs": [
    {
     "name": "stdout",
     "output_type": "stream",
     "text": [
      "manzana\n",
      "naranja\n",
      "platano\n"
     ]
    }
   ],
   "source": [
    "fruits = {\"manzana\": 1.5, \"naranja\": 2.0, \"platano\": 3.0, \"kiwi\": 2.5}\n",
    "\n",
    "for fruit in fruits:\n",
    "    if len(fruit) > 5:\n",
    "        print(fruit)\n"
   ]
  },
  {
   "cell_type": "code",
   "execution_count": null,
   "metadata": {},
   "outputs": [],
   "source": [
    "# Dada una lista de números, utiliza un bucle for para imprimir solo los números que sean múltiplos de 4 o 5.\n",
    "# numbers = [1, 2, 3, 4, 5, 6, 7, 8, 9, 10]"
   ]
  },
  {
   "cell_type": "code",
   "execution_count": null,
   "metadata": {},
   "outputs": [
    {
     "name": "stdout",
     "output_type": "stream",
     "text": [
      "4\n",
      "5\n",
      "8\n",
      "10\n"
     ]
    }
   ],
   "source": [
    "numbers = [1, 2, 3, 4, 5, 6, 7, 8, 9, 10]\n",
    "i = 0\n",
    "\n",
    "while i < len(numbers): \n",
    "    if numbers[i] % 4 == 0:\n",
    "        print(numbers[i])\n",
    "    if numbers[i] % 5 == 0:\n",
    "        print(numbers[i])\n",
    "    i += 1 "
   ]
  },
  {
   "cell_type": "code",
   "execution_count": null,
   "metadata": {},
   "outputs": [],
   "source": [
    "# Dado un diccionario de frutas y sus precios, utiliza un bucle while para calcular el precio total de todas las frutas.\n",
    "# fruits = {\"manzana\": 1.5, \"naranja\": 2.0, \"platano\": 3.0, \"kiwi\": 2.5}"
   ]
  },
  {
   "cell_type": "code",
   "execution_count": 63,
   "metadata": {},
   "outputs": [
    {
     "name": "stdout",
     "output_type": "stream",
     "text": [
      "9.0\n"
     ]
    }
   ],
   "source": [
    "fruits = {\"manzana\": 1.5, \"naranja\": 2.0, \"platano\": 3.0, \"kiwi\": 2.5}\n",
    "price_fruit = 0\n",
    "variable_fruit = dict(fruits)\n",
    "\n",
    "while variable_fruit:\n",
    "    fruit, price = variable_fruit.popitem()\n",
    "    price_fruit += price\n",
    "\n",
    "print(price_fruit)"
   ]
  },
  {
   "cell_type": "code",
   "execution_count": null,
   "metadata": {},
   "outputs": [],
   "source": [
    "# Dada una lista de nombres, utiliza un bucle for para imprimir los nombres en orden inverso.\n",
    "# names = [\"Ana\", \"Pedro\", \"Juan\", \"Maria\", \"Julia\"]"
   ]
  },
  {
   "cell_type": "code",
   "execution_count": 66,
   "metadata": {},
   "outputs": [
    {
     "name": "stdout",
     "output_type": "stream",
     "text": [
      "Julia\n",
      "Maria\n",
      "Juan\n",
      "Pedro\n",
      "Ana\n"
     ]
    }
   ],
   "source": [
    "names = [\"Ana\", \"Pedro\", \"Juan\", \"Maria\", \"Julia\"]\n",
    "\n",
    "for name in reversed(names):\n",
    "    print(name)"
   ]
  },
  {
   "cell_type": "code",
   "execution_count": null,
   "metadata": {},
   "outputs": [],
   "source": [
    "# Dada una lista de números, utiliza un bucle while para calcular la media de los números pares.\n",
    "# numbers = [1, 2, 3, 4, 5, 6, 7, 8, 9, 10]"
   ]
  },
  {
   "cell_type": "code",
   "execution_count": 77,
   "metadata": {},
   "outputs": [
    {
     "name": "stdout",
     "output_type": "stream",
     "text": [
      "6.0\n"
     ]
    }
   ],
   "source": [
    "numbers = [1, 2, 3, 4, 5, 6, 7, 8, 9, 10]\n",
    "suma_pares = 0\n",
    "cantidad_pares = 0\n",
    "\n",
    "i = 0\n",
    "while i < len(numbers):\n",
    "    if numbers[i] % 2 == 0:\n",
    "        suma_pares += numbers[i]\n",
    "        cantidad_pares += 1\n",
    "    i += 1\n",
    "\n",
    "media_pares = suma_pares / cantidad_pares\n",
    "\n",
    "print(media_pares)\n"
   ]
  },
  {
   "cell_type": "code",
   "execution_count": null,
   "metadata": {},
   "outputs": [],
   "source": [
    "#Dada una lista de números, utiliza un bucle for para imprimir el número más pequeño y el número más grande.\n",
    "#numbers = [5, 2, 7, 1, 8, 4, 10, 3]"
   ]
  },
  {
   "cell_type": "code",
   "execution_count": 79,
   "metadata": {},
   "outputs": [
    {
     "name": "stdout",
     "output_type": "stream",
     "text": [
      "El máximo es: 10 y el mínimo es 1\n"
     ]
    }
   ],
   "source": [
    "numbers = [5, 2, 7, 1, 8, 4, 10, 3]\n",
    "max_number = 0\n",
    "min_number = 0\n",
    "\n",
    "for num in numbers:\n",
    "    max_number = max(numbers)\n",
    "    min_number = min(numbers)\n",
    "\n",
    "print(f\"El máximo es: {max_number} y el mínimo es {min_number}\")"
   ]
  },
  {
   "cell_type": "code",
   "execution_count": null,
   "metadata": {},
   "outputs": [],
   "source": [
    "# Dada una lista de nombres, utiliza un bucle while para imprimir los nombres en mayúsculas hasta que se encuentre un nombre que comience con \"M\".\n",
    "# names = [\"Ana\", \"Pedro\", \"Juan\", \"Maria\", \"Julia\"]"
   ]
  },
  {
   "cell_type": "code",
   "execution_count": 83,
   "metadata": {},
   "outputs": [
    {
     "name": "stdout",
     "output_type": "stream",
     "text": [
      "ANA\n",
      "PEDRO\n",
      "JUAN\n"
     ]
    }
   ],
   "source": [
    "names = [\"Ana\", \"Pedro\", \"Juan\", \"Maria\", \"Julia\"]\n",
    "i = 0\n",
    "\n",
    "while i < len(names) and not names[i].startswith(\"M\"):\n",
    "    print(names[i].upper())\n",
    "    i += 1\n",
    "\n"
   ]
  },
  {
   "cell_type": "code",
   "execution_count": null,
   "metadata": {},
   "outputs": [],
   "source": [
    "# Dado un diccionario de frutas y sus precios, utiliza un bucle for para imprimir solo las frutas que tengan un precio mayor a 2.0.\n",
    "# fruits = {\"manzana\": 1.5, \"naranja\": 2.0, \"platano\": 3.0, \"kiwi\": 2.5}"
   ]
  },
  {
   "cell_type": "code",
   "execution_count": 89,
   "metadata": {},
   "outputs": [
    {
     "name": "stdout",
     "output_type": "stream",
     "text": [
      "platano\n",
      "kiwi\n"
     ]
    }
   ],
   "source": [
    "fruits = {\"manzana\": 1.5, \"naranja\": 2.0, \"platano\": 3.0, \"kiwi\": 2.5}\n",
    "\n",
    "for fruit, price in fruits.items():\n",
    "    if price > 2:\n",
    "        print(fruit)\n"
   ]
  },
  {
   "cell_type": "code",
   "execution_count": null,
   "metadata": {},
   "outputs": [],
   "source": [
    "# Dada una lista de números, utiliza un bucle while para imprimir solo los números impares y detener el bucle si se encuentra un número \n",
    "# mayor a 10.\n",
    "# numbers = [1, 2, 3, 4, 5, 6, 7, 8, 9, 11, 12]"
   ]
  },
  {
   "cell_type": "code",
   "execution_count": 91,
   "metadata": {},
   "outputs": [
    {
     "name": "stdout",
     "output_type": "stream",
     "text": [
      "1\n",
      "3\n",
      "5\n",
      "7\n",
      "9\n"
     ]
    }
   ],
   "source": [
    "numbers = [1, 2, 3, 4, 5, 6, 7, 8, 9, 11, 12]\n",
    "\n",
    "index = 0\n",
    "while index < len(numbers):\n",
    "    if numbers[index] > 10:\n",
    "        break  # detener el bucle si se encuentra un número mayor a 10\n",
    "    if numbers[index] % 2 != 0:\n",
    "        print(numbers[index])\n",
    "    index += 1\n"
   ]
  },
  {
   "cell_type": "code",
   "execution_count": null,
   "metadata": {},
   "outputs": [],
   "source": [
    "# Dada una lista de tuplas, donde cada tupla representa la información de un estudiante (nombre, edad, promedio), crear un diccionario \n",
    "# que agrupe a los estudiantes por rango de edades (0-20, 21-40, 41-60, más de 60) y calcule el promedio de sus promedios.\n",
    "# students = [(\"Ana\", 18, 8.5), (\"Pedro\", 25, 7.8), (\"Juan\", 37, 9.2), (\"Maria\", 58, 6.5), (\"Julia\", 70, 8.9), (\"Luis\", 20, 9.0)]\n",
    "# age_ranges = {\"0-20\": [], \"21-40\": [], \"41-60\": [], \"más de 60\": []}"
   ]
  },
  {
   "cell_type": "code",
   "execution_count": 94,
   "metadata": {},
   "outputs": [
    {
     "name": "stdout",
     "output_type": "stream",
     "text": [
      "[('Ana', 18, 8.5), ('Luis', 20, 9.0)]\n"
     ]
    }
   ],
   "source": [
    "students = [(\"Ana\", 18, 8.5), (\"Pedro\", 25, 7.8), (\"Juan\", 37, 9.2), (\"Maria\", 58, 6.5), (\"Julia\", 70, 8.9), (\"Luis\", 20, 9.0)]\n",
    "age_ranges = {\"0-20\": [], \"21-40\": [], \"41-60\": [], \"más de 60\": []}\n",
    "\n",
    "# Agrupar estudiantes por rango de edad\n",
    "for student in students:\n",
    "    if student[1] <= 20:\n",
    "        age_ranges[\"0-20\"].append(student)\n",
    "    elif student[1] <= 40:\n",
    "        age_ranges[\"21-40\"].append(student)\n",
    "    elif student[1] <= 60:\n",
    "        age_ranges[\"41-60\"].append(student)\n",
    "    else:\n",
    "        age_ranges[\"más de 60\"].append(student)\n",
    "print(age_ranges[\"0-20\"])"
   ]
  }
 ],
 "metadata": {
  "kernelspec": {
   "display_name": "ramp_up_py395",
   "language": "python",
   "name": "python3"
  },
  "language_info": {
   "codemirror_mode": {
    "name": "ipython",
    "version": 3
   },
   "file_extension": ".py",
   "mimetype": "text/x-python",
   "name": "python",
   "nbconvert_exporter": "python",
   "pygments_lexer": "ipython3",
   "version": "3.9.5"
  },
  "orig_nbformat": 4
 },
 "nbformat": 4,
 "nbformat_minor": 2
}
